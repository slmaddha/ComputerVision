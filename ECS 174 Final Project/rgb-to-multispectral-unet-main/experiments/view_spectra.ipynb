{
 "cells": [
  {
   "cell_type": "code",
   "execution_count": null,
   "metadata": {},
   "outputs": [],
   "source": [
    "import pandas as pd"
   ]
  },
  {
   "cell_type": "code",
   "execution_count": null,
   "metadata": {},
   "outputs": [],
   "source": [
    "# read the data\n",
    "path_to_spectral = '/data2/eranario/data/Multispectral-Potato/Signals/spectra.csv'\n",
    "df_spectra = pd.read_csv(path_to_spectral, index_col=0)"
   ]
  },
  {
   "cell_type": "code",
   "execution_count": null,
   "metadata": {},
   "outputs": [],
   "source": [
    "df_spectra.head()"
   ]
  },
  {
   "cell_type": "code",
   "execution_count": null,
   "metadata": {},
   "outputs": [],
   "source": [
    "# remove first 2 columns\n",
    "df_spectra_pruned = df_spectra[df_spectra.columns[2::]]\n",
    "\n",
    "# remove row titles\n",
    "df_spectra_pruned = df_spectra_pruned.reset_index(drop=True)\n",
    "df_spectra_pruned.head()"
   ]
  },
  {
   "cell_type": "code",
   "execution_count": null,
   "metadata": {},
   "outputs": [],
   "source": [
    "# check number of columns and rows\n",
    "print('Number of columns: ', len(df_spectra_pruned.columns))\n",
    "print('Number of rows: ', len(df_spectra_pruned))"
   ]
  }
 ],
 "metadata": {
  "kernelspec": {
   "display_name": "unet",
   "language": "python",
   "name": "python3"
  },
  "language_info": {
   "codemirror_mode": {
    "name": "ipython",
    "version": 3
   },
   "file_extension": ".py",
   "mimetype": "text/x-python",
   "name": "python",
   "nbconvert_exporter": "python",
   "pygments_lexer": "ipython3",
   "version": "3.10.15"
  }
 },
 "nbformat": 4,
 "nbformat_minor": 2
}
